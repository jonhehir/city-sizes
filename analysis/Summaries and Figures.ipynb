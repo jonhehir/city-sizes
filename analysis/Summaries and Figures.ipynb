{
 "cells": [
  {
   "cell_type": "code",
   "execution_count": null,
   "id": "8bd0fe01-a63b-4bd1-9b8d-35bf29206dfb",
   "metadata": {},
   "outputs": [],
   "source": [
    "import data\n",
    "import resulthelpers\n",
    "import matplotlib.pyplot as plt\n",
    "import numpy\n",
    "import scipy.stats"
   ]
  },
  {
   "cell_type": "markdown",
   "id": "166c69a9-662e-483c-a4e5-16d46ee65d14",
   "metadata": {},
   "source": [
    "# Load Main Results"
   ]
  },
  {
   "cell_type": "code",
   "execution_count": null,
   "id": "b3e112fb-a4d0-42a4-bf95-7cf5c252c7ef",
   "metadata": {},
   "outputs": [],
   "source": [
    "all_results = resulthelpers.join_results(\n",
    "    resulthelpers.load_basic_results(\"results/*.tsv\"),\n",
    "    resulthelpers.load_simulation_results(\"batch/all-results.tsv\"),\n",
    "    ks_col=\"ks_pl\"\n",
    ");"
   ]
  },
  {
   "cell_type": "markdown",
   "id": "9482581c-e0a3-4318-b285-8f4e2c81d3a3",
   "metadata": {},
   "source": [
    "# Load Lognormal Results"
   ]
  },
  {
   "cell_type": "code",
   "execution_count": null,
   "id": "bf81becb-d967-4459-9b75-a3dff0b4110b",
   "metadata": {},
   "outputs": [],
   "source": [
    "all_ln_results = resulthelpers.join_results(\n",
    "    resulthelpers.load_basic_results(\"./results/lognormal-results.tsv\"),\n",
    "    resulthelpers.load_lognormal_simulation_results(\"./batch/all-results-lognormal.tsv\")\n",
    ");"
   ]
  },
  {
   "cell_type": "markdown",
   "id": "419e187e-53da-4621-b668-c5680e71cd15",
   "metadata": {},
   "source": [
    "# Power Law Confidence Intervals"
   ]
  },
  {
   "cell_type": "code",
   "execution_count": null,
   "id": "dd851535-b793-4c44-8ba5-d411e4237d81",
   "metadata": {},
   "outputs": [],
   "source": [
    "# just the tail results\n",
    "# (since we only ran the bootstrap on the tail results, this isn't really necessary)\n",
    "tail_results = all_results[all_results[\"fitpart\"] == \"tail\"]\n",
    "\n",
    "good_datasets = [\"Census CBSA\", \"Census Place\", \"Census UA/UC\", \"CCA Tract\", \"CCA Tract (3+)\", \"CCA Street Network\", \"CCA Raster\", \"CCA Block\"]\n",
    "\n",
    "# ignore prior year results (e.g., \"CBSA, 2000\")\n",
    "tail_results = tail_results[tail_results[\"dataset\"].isin(good_datasets)]\n",
    "\n",
    "# calculate alpha_range\n",
    "\n",
    "# The 97.5% quantile of a standard normal random var, i.e.,\n",
    "# the multiplier for sigma that gives us an approximate 95% confidence interval.\n",
    "std_norm_975 = scipy.stats.norm.ppf(.975)\n",
    "tail_results[\"alpha_lower\"] = tail_results[\"alpha\"] - std_norm_975*tail_results[\"plsigma\"]\n",
    "tail_results[\"alpha_upper\"] = tail_results[\"alpha\"] + std_norm_975*tail_results[\"plsigma\"]\n",
    "significant_pls = tail_results[tail_results[\"bootstrap_p\"] >= 0.1].sort_values([\"alpha\"], ascending=[False])"
   ]
  },
  {
   "cell_type": "code",
   "execution_count": null,
   "id": "93907cb2-51ca-44bb-ae4f-2c89d108914b",
   "metadata": {},
   "outputs": [],
   "source": [
    "fig = plt.figure()\n",
    "ax = fig.add_subplot(111)\n",
    "ax.errorbar(y=range(len(significant_pls)), x=significant_pls[\"alpha\"], xerr=significant_pls[\"plsigma\"] * std_norm_975, fmt=\"o\", color=\"#774499\", markersize=2)\n",
    "ax.axvline(2, color=\"#000000a0\", linewidth=1, linestyle=\"dotted\")\n",
    "ax.set_yticks(range(len(significant_pls)))\n",
    "ax.set_yticklabels(significant_pls[\"column\"].str.cat(significant_pls[\"dataset\"], \": \"))\n",
    "ax.set_xlabel(\"α\")\n",
    "ax.set_xlim([1, 4])\n",
    "plt.tight_layout()\n",
    "fig.savefig(\"illustrations/significant-alphas-95.pdf\")\n",
    "fig.savefig(\"illustrations/significant-alphas-95.png\", dpi=300)"
   ]
  },
  {
   "cell_type": "code",
   "execution_count": null,
   "id": "5f5e766f-bf27-4bc1-9016-808c56268da0",
   "metadata": {},
   "outputs": [],
   "source": [
    "disp_tbl = tail_results\n",
    "disp_tbl[\"alpha_range\"] = disp_tbl[\"alpha_lower\"].map(\"{0:.3f}\".format).str.cat(disp_tbl[\"alpha_upper\"].map(\"{0:.3f}\".format), sep=\", \")\n",
    "disp_tbl[[\"column\", \"dataset\", \"n_tail\", \"x_min\", \"alpha\", \"plsigma\", \"alpha_range\", \"ks_pl\", \"bootstrap_p\"]].sort_values(\"column\", ascending=False)"
   ]
  },
  {
   "cell_type": "markdown",
   "id": "bb7ac5c9-fe5f-4786-9a93-f62b8d764604",
   "metadata": {},
   "source": [
    "# Kernel Density Estimates"
   ]
  },
  {
   "cell_type": "code",
   "execution_count": null,
   "id": "f319ca4e-314c-498e-8dac-ee5dcae4df14",
   "metadata": {},
   "outputs": [],
   "source": [
    "def generate_combined_kde():\n",
    "    kde_datasets = {\n",
    "        \"CCA Block\": {\n",
    "            \"get_data\": data.get_cca_block_data,\n",
    "            \"params\": [1000, 1000],\n",
    "            \"population_cutoff\": 50,\n",
    "            \"color\": \"#ff9900\"\n",
    "        },\n",
    "        \"Census Place\": {\n",
    "            \"get_data\": data.get_census_place_data,\n",
    "            \"params\": [],\n",
    "            \"population_cutoff\": 5000,\n",
    "            \"color\": \"#cc0033\"\n",
    "        },\n",
    "        \"CCA Raster\": {\n",
    "            \"get_data\": data.get_cca_raster_data,\n",
    "            \"params\": [1000, 5],\n",
    "            \"population_cutoff\": 4000,\n",
    "            \"color\": \"#006699\"\n",
    "        }\n",
    "    }\n",
    "    \n",
    "    fig, axes = pyplot.subplots(len(kde_datasets), 1, sharex=True, figsize=(10,6))\n",
    "    x = numpy.linspace(-2, 17, 5000)\n",
    "    \n",
    "    i = 0\n",
    "    for name in kde_datasets:\n",
    "        ax = axes[i]\n",
    "        i += 1\n",
    "        dataset = kde_datasets[name]\n",
    "        df = dataset[\"get_data\"](*dataset[\"params\"])\n",
    "        popcutoff = dataset[\"population_cutoff\"]\n",
    "\n",
    "        population = df[\"population\"][df[\"population\"] > 0]\n",
    "        kde = scipy.stats.gaussian_kde(numpy.log(population), bw_method=.02)\n",
    "        ax.set_title(name + \" Log Population Density\")\n",
    "        #ax.set_ylabel(\"Density\")\n",
    "        if i == len(kde_datasets):\n",
    "            ax.set_xlabel(\"ln(population)\")\n",
    "        ax.plot(x, kde(x), color=\"#004454\")\n",
    "        ax.axvline(numpy.log(popcutoff), color=\"#00000080\", linestyle=\"dotted\")\n",
    "\n",
    "    pyplot.tight_layout()\n",
    "    fig.savefig(\"illustrations/combined-pop-density.png\", dpi=300)\n",
    "    #pyplot.close(fig)\n",
    "\n",
    "generate_combined_kde()"
   ]
  },
  {
   "cell_type": "code",
   "execution_count": null,
   "id": "b2d52337-9984-4f58-8c19-1cbccd82814e",
   "metadata": {},
   "outputs": [],
   "source": [
    "df = data.get_cca_raster_data(1000, 5)\n",
    "plots = [\n",
    "    {\"col\": \"area\", \"cutoff\": 8, \"label\": \"area (km$^2$)\"},\n",
    "    {\"col\": \"population\", \"cutoff\": 8000, \"label\": \"population\"}\n",
    "]\n",
    "fig = pyplot.figure(figsize=(6,3))\n",
    "i = 0\n",
    "for p in plots:\n",
    "    i += 1\n",
    "    ax = fig.add_subplot(1, 2, i)\n",
    "    if i == 1:\n",
    "        ax.set_title(\"CCA Raster lower tail density\")\n",
    "    ax.set_xlabel(p[\"label\"])\n",
    "    ax.set_ylabel(\"density\")\n",
    "    x = numpy.linspace(0, p[\"cutoff\"], 5000)\n",
    "    kde = scipy.stats.gaussian_kde(df[p[\"col\"]][df[p[\"col\"]] <= p[\"cutoff\"]], bw_method=.04)\n",
    "    ax.plot(x, kde(x), color=\"#004454\")\n",
    "pyplot.tight_layout()\n",
    "fig.savefig(\"illustrations/cca-raster-lower-tail.pdf\")\n",
    "fig.savefig(\"illustrations/cca-raster-lower-tail.png\", dpi=300)"
   ]
  }
 ],
 "metadata": {
  "kernelspec": {
   "display_name": "Python 3 (ipykernel)",
   "language": "python",
   "name": "python3"
  },
  "language_info": {
   "codemirror_mode": {
    "name": "ipython",
    "version": 3
   },
   "file_extension": ".py",
   "mimetype": "text/x-python",
   "name": "python",
   "nbconvert_exporter": "python",
   "pygments_lexer": "ipython3",
   "version": "3.9.12"
  }
 },
 "nbformat": 4,
 "nbformat_minor": 5
}
